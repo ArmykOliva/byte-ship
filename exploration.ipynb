{
 "cells": [
  {
   "cell_type": "code",
   "execution_count": 17,
   "metadata": {},
   "outputs": [],
   "source": [
    "import pandas as pd"
   ]
  },
  {
   "cell_type": "code",
   "execution_count": 18,
   "metadata": {},
   "outputs": [
    {
     "name": "stdout",
     "output_type": "stream",
     "text": [
      "                                                Text\n",
      "0  Nov 09 13:11:35 localhost kernel: Linux versio...\n",
      "1  Nov 09 13:11:35 localhost kernel: Command line...\n",
      "2  Nov 09 13:11:35 localhost kernel: x86/fpu: Sup...\n",
      "3  Nov 09 13:11:35 localhost kernel: x86/fpu: Sup...\n",
      "4  Nov 09 13:11:35 localhost kernel: x86/fpu: Sup...\n"
     ]
    }
   ],
   "source": [
    "# Read the file line by line\n",
    "with open('data/test_log1.out', 'r') as f:\n",
    "    lines = f.readlines()\n",
    "\n",
    "# Create a DataFrame\n",
    "df = pd.DataFrame(lines, columns=['Text'])\n",
    "\n",
    "# Display the first 5 rows of the DataFrame\n",
    "print(df.head())"
   ]
  },
  {
   "cell_type": "markdown",
   "metadata": {},
   "source": [
    "# Extract the inherent structure of the data into a dataframe"
   ]
  },
  {
   "cell_type": "code",
   "execution_count": 19,
   "metadata": {},
   "outputs": [],
   "source": [
    "# Split the 'Text' column at the 5th space\n",
    "df = df['Text'].str.split(' ', n=5, expand=True)"
   ]
  },
  {
   "cell_type": "markdown",
   "metadata": {},
   "source": [
    "## Timestamp"
   ]
  },
  {
   "cell_type": "code",
   "execution_count": 20,
   "metadata": {},
   "outputs": [],
   "source": [
    "df['timestamp'] = df[[0, 1, 2]].apply(lambda row: ' '.join(row.values.astype(str)), axis=1)\n",
    "df.drop(columns=[0, 1, 2], inplace=True)"
   ]
  },
  {
   "cell_type": "markdown",
   "metadata": {},
   "source": [
    "## Device"
   ]
  },
  {
   "cell_type": "code",
   "execution_count": 21,
   "metadata": {},
   "outputs": [],
   "source": [
    "df['device'] = df[3]\n",
    "df.drop(columns=[3], inplace=True)"
   ]
  },
  {
   "cell_type": "markdown",
   "metadata": {},
   "source": [
    "## Program"
   ]
  },
  {
   "cell_type": "code",
   "execution_count": 22,
   "metadata": {},
   "outputs": [],
   "source": [
    "df['program'] = df.loc[:, 4].str.replace(r'(\\[.*\\])?:', '', regex=True)\n",
    "df.drop(columns=[4], inplace=True)"
   ]
  },
  {
   "cell_type": "markdown",
   "metadata": {},
   "source": [
    "## Renaming and datatype of timestamp"
   ]
  },
  {
   "cell_type": "code",
   "execution_count": 23,
   "metadata": {},
   "outputs": [],
   "source": [
    "df['log'] = df[5]\n",
    "df.drop(columns=[5], inplace=True)\n",
    "df.loc[:, 'timestamp'] = pd.to_datetime(df['timestamp'], format='%b %d %H:%M:%S', errors='coerce')"
   ]
  },
  {
   "cell_type": "markdown",
   "metadata": {},
   "source": [
    "## Further preprocessing"
   ]
  },
  {
   "cell_type": "code",
   "execution_count": 24,
   "metadata": {},
   "outputs": [],
   "source": [
    "df.loc[:, 'log'] = df.loc[:, 'log'].str.lower()"
   ]
  },
  {
   "cell_type": "code",
   "execution_count": 25,
   "metadata": {},
   "outputs": [],
   "source": [
    "df.loc[:, 'timestamp'] = pd.to_datetime(df['timestamp'], format='%b %d %H:%M:%S', errors='coerce')"
   ]
  },
  {
   "cell_type": "markdown",
   "metadata": {},
   "source": [
    "## Set up backend handler funcs"
   ]
  },
  {
   "cell_type": "code",
   "execution_count": 28,
   "metadata": {},
   "outputs": [],
   "source": [
    "# Update the year of every timestamp to 2023\n",
    "df.loc[:, 'timestamp'] = df['timestamp'].apply(lambda x: x.replace(year=2023))"
   ]
  },
  {
   "cell_type": "code",
   "execution_count": 31,
   "metadata": {},
   "outputs": [
    {
     "data": {
      "text/html": [
       "<div>\n",
       "<style scoped>\n",
       "    .dataframe tbody tr th:only-of-type {\n",
       "        vertical-align: middle;\n",
       "    }\n",
       "\n",
       "    .dataframe tbody tr th {\n",
       "        vertical-align: top;\n",
       "    }\n",
       "\n",
       "    .dataframe thead th {\n",
       "        text-align: right;\n",
       "    }\n",
       "</style>\n",
       "<table border=\"1\" class=\"dataframe\">\n",
       "  <thead>\n",
       "    <tr style=\"text-align: right;\">\n",
       "      <th></th>\n",
       "      <th>timestamp</th>\n",
       "      <th>device</th>\n",
       "      <th>program</th>\n",
       "      <th>log</th>\n",
       "    </tr>\n",
       "  </thead>\n",
       "  <tbody>\n",
       "    <tr>\n",
       "      <th>0</th>\n",
       "      <td>2023-11-09 13:11:35</td>\n",
       "      <td>localhost</td>\n",
       "      <td>kernel</td>\n",
       "      <td>linux version 5.15.73 (oe-user@oe-host) (x86_6...</td>\n",
       "    </tr>\n",
       "    <tr>\n",
       "      <th>1</th>\n",
       "      <td>2023-11-09 13:11:35</td>\n",
       "      <td>localhost</td>\n",
       "      <td>kernel</td>\n",
       "      <td>command line: boot_image=/boot/vmlinuz root=/d...</td>\n",
       "    </tr>\n",
       "    <tr>\n",
       "      <th>2</th>\n",
       "      <td>2023-11-09 13:11:35</td>\n",
       "      <td>localhost</td>\n",
       "      <td>kernel</td>\n",
       "      <td>x86/fpu: supporting xsave feature 0x001: 'x87 ...</td>\n",
       "    </tr>\n",
       "    <tr>\n",
       "      <th>3</th>\n",
       "      <td>2023-11-09 13:11:35</td>\n",
       "      <td>localhost</td>\n",
       "      <td>kernel</td>\n",
       "      <td>x86/fpu: supporting xsave feature 0x002: 'sse ...</td>\n",
       "    </tr>\n",
       "    <tr>\n",
       "      <th>4</th>\n",
       "      <td>2023-11-09 13:11:35</td>\n",
       "      <td>localhost</td>\n",
       "      <td>kernel</td>\n",
       "      <td>x86/fpu: supporting xsave feature 0x004: 'avx ...</td>\n",
       "    </tr>\n",
       "    <tr>\n",
       "      <th>...</th>\n",
       "      <td>...</td>\n",
       "      <td>...</td>\n",
       "      <td>...</td>\n",
       "      <td>...</td>\n",
       "    </tr>\n",
       "    <tr>\n",
       "      <th>2940</th>\n",
       "      <td>2023-11-09 13:11:49</td>\n",
       "      <td>CMX50070-101776</td>\n",
       "      <td>kernel</td>\n",
       "      <td>cmx_au_ioctl_set_clear_sig_fpga call\\n</td>\n",
       "    </tr>\n",
       "    <tr>\n",
       "      <th>2941</th>\n",
       "      <td>2023-11-09 13:11:49</td>\n",
       "      <td>CMX50070-101776</td>\n",
       "      <td>kernel</td>\n",
       "      <td>cmx_ioctl_get_slot_id call\\n</td>\n",
       "    </tr>\n",
       "    <tr>\n",
       "      <th>2942</th>\n",
       "      <td>2023-11-09 13:11:49</td>\n",
       "      <td>CMX50070-101776</td>\n",
       "      <td>kernel</td>\n",
       "      <td>cmx_au_ioctl_dma_dl_fpga call\\n</td>\n",
       "    </tr>\n",
       "    <tr>\n",
       "      <th>2943</th>\n",
       "      <td>2023-11-09 13:11:49</td>\n",
       "      <td>CMX50070-101776</td>\n",
       "      <td>xu_launcher</td>\n",
       "      <td>front unit ld has been started.\\n</td>\n",
       "    </tr>\n",
       "    <tr>\n",
       "      <th>2944</th>\n",
       "      <td>2023-11-09 13:11:49</td>\n",
       "      <td>CMX50070-101776</td>\n",
       "      <td>xu_launcher</td>\n",
       "      <td>waiting for (any) signal to shut down...\\n</td>\n",
       "    </tr>\n",
       "  </tbody>\n",
       "</table>\n",
       "<p>2945 rows × 4 columns</p>\n",
       "</div>"
      ],
      "text/plain": [
       "                timestamp           device      program  \\\n",
       "0     2023-11-09 13:11:35        localhost       kernel   \n",
       "1     2023-11-09 13:11:35        localhost       kernel   \n",
       "2     2023-11-09 13:11:35        localhost       kernel   \n",
       "3     2023-11-09 13:11:35        localhost       kernel   \n",
       "4     2023-11-09 13:11:35        localhost       kernel   \n",
       "...                   ...              ...          ...   \n",
       "2940  2023-11-09 13:11:49  CMX50070-101776       kernel   \n",
       "2941  2023-11-09 13:11:49  CMX50070-101776       kernel   \n",
       "2942  2023-11-09 13:11:49  CMX50070-101776       kernel   \n",
       "2943  2023-11-09 13:11:49  CMX50070-101776  xu_launcher   \n",
       "2944  2023-11-09 13:11:49  CMX50070-101776  xu_launcher   \n",
       "\n",
       "                                                    log  \n",
       "0     linux version 5.15.73 (oe-user@oe-host) (x86_6...  \n",
       "1     command line: boot_image=/boot/vmlinuz root=/d...  \n",
       "2     x86/fpu: supporting xsave feature 0x001: 'x87 ...  \n",
       "3     x86/fpu: supporting xsave feature 0x002: 'sse ...  \n",
       "4     x86/fpu: supporting xsave feature 0x004: 'avx ...  \n",
       "...                                                 ...  \n",
       "2940             cmx_au_ioctl_set_clear_sig_fpga call\\n  \n",
       "2941                       cmx_ioctl_get_slot_id call\\n  \n",
       "2942                    cmx_au_ioctl_dma_dl_fpga call\\n  \n",
       "2943                  front unit ld has been started.\\n  \n",
       "2944         waiting for (any) signal to shut down...\\n  \n",
       "\n",
       "[2945 rows x 4 columns]"
      ]
     },
     "execution_count": 31,
     "metadata": {},
     "output_type": "execute_result"
    }
   ],
   "source": [
    "# Select all rows within a time range\n",
    "df.loc[(df['timestamp'] > pd.to_datetime('2023-11-09 13:11:00')) & (df['timestamp'] < pd.to_datetime('2023-11-09 13:11:50'))]"
   ]
  },
  {
   "cell_type": "code",
   "execution_count": 32,
   "metadata": {},
   "outputs": [
    {
     "data": {
      "text/plain": [
       "0        2023-11-09 13:11:35\n",
       "1        2023-11-09 13:11:35\n",
       "2        2023-11-09 13:11:35\n",
       "3        2023-11-09 13:11:35\n",
       "4        2023-11-09 13:11:35\n",
       "                ...         \n",
       "29290    2023-11-10 05:49:15\n",
       "29291    2023-11-10 05:49:15\n",
       "29292    2023-11-10 05:49:15\n",
       "29293    2023-11-10 05:49:15\n",
       "29294    2023-11-10 05:49:15\n",
       "Name: timestamp, Length: 29295, dtype: object"
      ]
     },
     "execution_count": 32,
     "metadata": {},
     "output_type": "execute_result"
    }
   ],
   "source": [
    "df['timestamp']"
   ]
  },
  {
   "cell_type": "code",
   "execution_count": null,
   "metadata": {},
   "outputs": [],
   "source": []
  }
 ],
 "metadata": {
  "kernelspec": {
   "display_name": "daia-eon",
   "language": "python",
   "name": "python3"
  },
  "language_info": {
   "codemirror_mode": {
    "name": "ipython",
    "version": 3
   },
   "file_extension": ".py",
   "mimetype": "text/x-python",
   "name": "python",
   "nbconvert_exporter": "python",
   "pygments_lexer": "ipython3",
   "version": "3.11.5"
  }
 },
 "nbformat": 4,
 "nbformat_minor": 2
}
